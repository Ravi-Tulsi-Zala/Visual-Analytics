{
 "cells": [
  {
   "cell_type": "code",
   "execution_count": 26,
   "metadata": {},
   "outputs": [],
   "source": [
    "import pandas as pd\n",
    "import numpy as np\n",
    "import matplotlib.pyplot as plot \n",
    "import re\n",
    "import difflib \n",
    "from pandas.api.types import is_numeric_dtype"
   ]
  },
  {
   "cell_type": "code",
   "execution_count": 27,
   "metadata": {},
   "outputs": [],
   "source": [
    "dataframe = pd.read_csv('dataset1_dirty.csv',names = [\"age\",\"workclass\",\"fnlwgt\",\"education\",\"education-num\",\"marital-status\",\"occupation\",\"relationship\",\"race\",\"sex\",\"capital-gain\",\"capital-loss\",\"hours-per-week\",\"native-country\",\"salary\"]);\n",
    "\n",
    "listOfWorkClass = [\"Private\", \"Self-emp-not-inc\", \"Self-emp-inc\", \"Federal-gov\", \"Local-gov\", \"State-gov\", \"Without-pay\", \"Never-worked\"]\n",
    "\n",
    "listOfOccupation = [\"Tech-support\", \"Craft-repair\", \"Other-service\", \"Sales\", \"Exec-managerial\", \"Prof-specialty\", \"Handlers-cleaners\",\n",
    "\"Machine-op-inspct\", \"Adm-clerical\", \"Farming-fishing\", \"Transport-moving\", \"Priv-house-serv\", \"Protective-serv\",\n",
    "\"Armed-Forces\"]\n"
   ]
  },
  {
   "cell_type": "code",
   "execution_count": 28,
   "metadata": {},
   "outputs": [],
   "source": [
    "def cleanAge():\n",
    "    \n",
    "    #   Converting negative to positive using abs()\n",
    "    dataframe['age'] = dataframe['age'].abs()\n",
    "    \n",
    "    #   replacing the 0s with NaN in order to use pandas fillna method\n",
    "    dataframe['age'] = dataframe['age'].replace({0:np.nan})\n",
    "    \n",
    "    #   fill the NaN values with Mean value of the Age column\n",
    "    meanAge = dataframe['age'].mean(skipna=True)\n",
    "    meanAge = int(meanAge)\n",
    "    dataframe['age'].fillna(meanAge, inplace=True)\n",
    "    dataframe['age']=dataframe['age'].astype(int)\n",
    "\n",
    "cleanAge()"
   ]
  },
  {
   "cell_type": "code",
   "execution_count": 29,
   "metadata": {
    "scrolled": true
   },
   "outputs": [],
   "source": [
    "# This method will first remove the special characters and lower the alphabets from the originalList of values in a column and\n",
    "# create a new list.Then it will do the same for dirty data in a dataset. It will compare for the exact match in the list first\n",
    "# if it is a exact match, it will get the index and fetch the category from originalList. Otherwise it will use difflib to compare \n",
    "# the distance between the strings. Afterwards it will replace the \n",
    "\n",
    "def cleanCategoricalData(originalList,columnName):\n",
    "    \n",
    "    modifiedList =[]\n",
    "    \n",
    "    for j in range(len(originalList)):   \n",
    "            modifiedstr=originalList[j].lower()\n",
    "            modifiedstr = re.sub(r'\\W+', '', modifiedstr)\n",
    "            modifiedList.append(modifiedstr)\n",
    "            \n",
    "    dataframe[columnName].replace({'?':np.nan},inplace=True)\n",
    "    dataframe[columnName].isnull().sum()\n",
    "    dataframe.dropna(inplace=True)\n",
    "    dataframe.reset_index(drop=True, inplace=True)\n",
    "    tempDataframe = dataframe[columnName]\n",
    "\n",
    "    for i in range(len(tempDataframe)):    \n",
    "        modifiedRowValue = re.sub(r'\\W+', '', tempDataframe[i])\n",
    "        modifiedRowValue=modifiedRowValue.lower()\n",
    "        tempDataframe.replace({tempDataframe[i]:modifiedRowValue},inplace=True)\n",
    "        \n",
    "    for i in range(len(tempDataframe)):\n",
    "        for j in range(len(originalList)):\n",
    "            if(tempDataframe[i] == modifiedList[j]):\n",
    "                tempDataframe.replace({tempDataframe[i]:originalList[j]},inplace=True)\n",
    "                break\n",
    "            elif((difflib.SequenceMatcher(None,tempDataframe[i],modifiedList[j]).ratio()) >= 0.87):\n",
    "                tempDataframe.replace({tempDataframe[i]:originalList[j]},inplace=True)\n",
    "                break\n",
    "                \n",
    "    for i in range(len(tempDataframe)):\n",
    "        if(tempDataframe[i] not in originalList):\n",
    "            tempDataframe.replace({tempDataframe[i]:'?'},inplace=True)\n",
    "    \n",
    "    tempDataframe.replace({'?':np.nan},inplace=True)\n",
    "    dataframe[columnName]=tempDataframe\n",
    "    dataframe.dropna(inplace=True)\n",
    "    dataframe.reset_index(drop=True, inplace=True)\n",
    "\n",
    "cleanCategoricalData(originalList=listOfWorkClass,columnName=\"workclass\")\n",
    "cleanCategoricalData(originalList=listOfOccupation,columnName=\"occupation\")\n"
   ]
  },
  {
   "cell_type": "code",
   "execution_count": 34,
   "metadata": {
    "scrolled": false
   },
   "outputs": [
    {
     "name": "stdout",
     "output_type": "stream",
     "text": [
      "Rows : 28954\n",
      "age: Min. : 17, Mean : 38.44, Max. : 90, Std. : 13.06\n",
      "\n",
      "\n",
      "workclass : 7\n",
      "Private             21393\n",
      "Self-emp-not-inc     2403\n",
      "Local-gov            1983\n",
      "State-gov            1222\n",
      "Self-emp-inc         1034\n",
      "Federal-gov           906\n",
      "Without-pay            13\n",
      "Name: workclass, dtype: int64\n",
      "\n",
      "\n",
      "fnlwgt: Min. : 13769, Mean : 189723.55, Max. : 1484705, Std. : 105623.91\n",
      "\n",
      "\n",
      "education : 16\n",
      "HS-grad         9456\n",
      "Some-college    6399\n",
      "Bachelors       4857\n",
      "Masters         1559\n",
      "Assoc-voc       1257\n",
      "11th             996\n",
      "Assoc-acdm       962\n",
      "10th             794\n",
      "7th-8th          531\n",
      "Prof-school      517\n",
      "9th              440\n",
      "Doctorate        364\n",
      "12th             361\n",
      "5th-6th          276\n",
      "1st-4th          141\n",
      "Preschool         44\n",
      "Name: education, dtype: int64\n",
      "\n",
      "\n",
      "education-num: Min. : 1, Mean : 10.12, Max. : 16, Std. : 2.55\n",
      "\n",
      "\n",
      "marital-status : 7\n",
      "Married-civ-spouse       13469\n",
      "Never-married             9330\n",
      "Divorced                  4068\n",
      "Separated                  903\n",
      "Widowed                    805\n",
      "Married-spouse-absent      358\n",
      "Married-AF-spouse           21\n",
      "Name: marital-status, dtype: int64\n",
      "\n",
      "\n",
      "occupation : 14\n",
      "Craft-repair         3896\n",
      "Prof-specialty       3868\n",
      "Exec-managerial      3837\n",
      "Adm-clerical         3569\n",
      "Sales                3425\n",
      "Other-service        3095\n",
      "Machine-op-inspct    1881\n",
      "Transport-moving     1515\n",
      "Handlers-cleaners    1285\n",
      "Farming-fishing       950\n",
      "Tech-support          873\n",
      "Protective-serv       612\n",
      "Priv-house-serv       139\n",
      "Armed-Forces            9\n",
      "Name: occupation, dtype: int64\n",
      "\n",
      "\n",
      "relationship : 6\n",
      "Husband           11929\n",
      "Not-in-family      7436\n",
      "Own-child          4278\n",
      "Unmarried          3098\n",
      "Wife               1351\n",
      "Other-relative      862\n",
      "Name: relationship, dtype: int64\n",
      "\n",
      "\n",
      "race : 5\n",
      "White                 24890\n",
      "Black                  2707\n",
      "Asian-Pac-Islander      857\n",
      "Amer-Indian-Eskimo      278\n",
      "Other                   222\n",
      "Name: race, dtype: int64\n",
      "\n",
      "\n",
      "sex : 2\n",
      "Male      19541\n",
      "Female     9413\n",
      "Name: sex, dtype: int64\n",
      "\n",
      "\n",
      "capital-gain: Min. : 0, Mean : 1103.09, Max. : 99999, Std. : 7493.56\n",
      "\n",
      "\n",
      "capital-loss: Min. : 0, Mean : 88.1, Max. : 4356, Std. : 404.09\n",
      "\n",
      "\n",
      "hours-per-week: Min. : 1, Mean : 40.95, Max. : 99, Std. : 11.96\n",
      "\n",
      "\n",
      "native-country : 41\n",
      "United-States                 26414\n",
      "Mexico                          582\n",
      "Philippines                     178\n",
      "Germany                         122\n",
      "Puerto-Rico                     108\n",
      "Canada                          104\n",
      "El-Salvador                      97\n",
      "India                            96\n",
      "Cuba                             88\n",
      "England                          80\n",
      "Jamaica                          74\n",
      "China                            66\n",
      "South                            64\n",
      "Italy                            63\n",
      "Guatemala                        62\n",
      "Vietnam                          62\n",
      "Dominican-Republic               61\n",
      "Japan                            56\n",
      "Poland                           55\n",
      "Columbia                         54\n",
      "Haiti                            41\n",
      "Iran                             41\n",
      "Taiwan                           38\n",
      "Portugal                         34\n",
      "Nicaragua                        32\n",
      "Peru                             30\n",
      "Greece                           28\n",
      "France                           26\n",
      "Ecuador                          25\n",
      "Ireland                          22\n",
      "Hong                             19\n",
      "Cambodia                         18\n",
      "Trinadad&Tobago                  18\n",
      "Laos                             17\n",
      "Thailand                         16\n",
      "Outlying-US(Guam-USVI-etc)       14\n",
      "Yugoslavia                       14\n",
      "Honduras                         12\n",
      "Hungary                          12\n",
      "Scotland                         10\n",
      "Holand-Netherlands                1\n",
      "Name: native-country, dtype: int64\n",
      "\n",
      "\n",
      "salary : 2\n",
      "<=50K    21762\n",
      ">50K      7192\n",
      "Name: salary, dtype: int64\n",
      "\n",
      "\n"
     ]
    }
   ],
   "source": [
    "# This method will print the data in the format given in a requirement document\n",
    "# according to the type of the data in a column\n",
    "\n",
    "def printData():\n",
    "    \n",
    "    dataframes = list(dataframe.columns.values)\n",
    "    print(\"Rows : \" + str(dataframe['age'].count()))\n",
    "    \n",
    "    for columnName in dataframes:\n",
    "                \n",
    "        if(is_numeric_dtype(dataframe[columnName])):\n",
    "            print(columnName + \": Min. : \" + str(dataframe[columnName].min()) + \", Mean : \"+ str(round(dataframe[columnName].mean(),2)) + \", Max. : \" + str(dataframe[columnName].max()) + \", Std. : \" + str(round(dataframe[columnName].std(),2)))\n",
    "            print(\"\\n\")  \n",
    "                \n",
    "        else:\n",
    "            uniqueValueCount = len(dataframe[columnName].unique().tolist())\n",
    "            print(columnName + \" : \" + str(uniqueValueCount))\n",
    "            print(dataframe[columnName].value_counts())\n",
    "            print(\"\\n\") \n",
    "            \n",
    "printData()"
   ]
  },
  {
   "cell_type": "code",
   "execution_count": 31,
   "metadata": {},
   "outputs": [],
   "source": [
    "# converting dataframe to csv file with ignoring index column and header rowm of the dataframe \n",
    "# by default to__csv has w mode which overwrites the generated file everytime\n",
    "\n",
    "dataframe.to_csv('dataset1_processed.csv', header=False,index=False)\n"
   ]
  },
  {
   "cell_type": "code",
   "execution_count": 51,
   "metadata": {},
   "outputs": [
    {
     "data": {
      "image/png": "[encoded data removed]",
      "text/plain": [
       "<Figure size 936x432 with 1 Axes>"
      ]
     },
     "metadata": {},
     "output_type": "display_data"
    }
   ],
   "source": [
    "# gca() returns the current axes\n",
    "\n",
    "plotSize = plot.figure(figsize = (13,6))\n",
    "axes = plotSize.gca()\n",
    "dataframe['age'].plot.hist(ax=axes)\n",
    "plot.title('# People distributed according to age')\n",
    "plot.xlabel('Age')\n",
    "plot.ylabel('# People')\n",
    "plot.grid(axis='y', alpha=0.5)"
   ]
  },
  {
   "cell_type": "code",
   "execution_count": 53,
   "metadata": {},
   "outputs": [
    {
     "data": {
      "image/png": "[encoded data removed]",
      "text/plain": [
       "<Figure size 432x288 with 1 Axes>"
      ]
     },
     "metadata": {},
     "output_type": "display_data"
    }
   ],
   "source": [
    "\n",
    "dataframe['occupation'].value_counts().plot(kind='bar')\n",
    "plot.title('# People distributed occupation')\n",
    "plot.xlabel('occupation')\n",
    "plot.ylabel('# People')\n",
    "plot.grid(axis='y', alpha=0.5)"
   ]
  },
  {
   "cell_type": "code",
   "execution_count": null,
   "metadata": {},
   "outputs": [],
   "source": []
  },
  {
   "cell_type": "code",
   "execution_count": null,
   "metadata": {},
   "outputs": [],
   "source": []
  },
  {
   "cell_type": "code",
   "execution_count": null,
   "metadata": {},
   "outputs": [],
   "source": []
  },
  {
   "cell_type": "code",
   "execution_count": null,
   "metadata": {},
   "outputs": [],
   "source": []
  },
  {
   "cell_type": "code",
   "execution_count": null,
   "metadata": {},
   "outputs": [],
   "source": []
  },
  {
   "cell_type": "code",
   "execution_count": null,
   "metadata": {},
   "outputs": [],
   "source": []
  },
  {
   "cell_type": "code",
   "execution_count": null,
   "metadata": {},
   "outputs": [],
   "source": []
  },
  {
   "cell_type": "code",
   "execution_count": null,
   "metadata": {},
   "outputs": [],
   "source": []
  },
  {
   "cell_type": "code",
   "execution_count": null,
   "metadata": {},
   "outputs": [],
   "source": []
  },
  {
   "cell_type": "code",
   "execution_count": null,
   "metadata": {},
   "outputs": [],
   "source": []
  },
  {
   "cell_type": "code",
   "execution_count": null,
   "metadata": {},
   "outputs": [],
   "source": []
  },
  {
   "cell_type": "code",
   "execution_count": null,
   "metadata": {},
   "outputs": [],
   "source": []
  },
  {
   "cell_type": "code",
   "execution_count": null,
   "metadata": {},
   "outputs": [],
   "source": []
  },
  {
   "cell_type": "code",
   "execution_count": null,
   "metadata": {},
   "outputs": [],
   "source": []
  },
  {
   "cell_type": "code",
   "execution_count": null,
   "metadata": {},
   "outputs": [],
   "source": []
  },
  {
   "cell_type": "code",
   "execution_count": null,
   "metadata": {},
   "outputs": [],
   "source": []
  },
  {
   "cell_type": "code",
   "execution_count": null,
   "metadata": {},
   "outputs": [],
   "source": []
  },
  {
   "cell_type": "code",
   "execution_count": null,
   "metadata": {},
   "outputs": [],
   "source": []
  },
  {
   "cell_type": "code",
   "execution_count": null,
   "metadata": {},
   "outputs": [],
   "source": []
  },
  {
   "cell_type": "code",
   "execution_count": null,
   "metadata": {},
   "outputs": [],
   "source": []
  },
  {
   "cell_type": "code",
   "execution_count": null,
   "metadata": {},
   "outputs": [],
   "source": []
  },
  {
   "cell_type": "code",
   "execution_count": null,
   "metadata": {},
   "outputs": [],
   "source": []
  },
  {
   "cell_type": "code",
   "execution_count": null,
   "metadata": {},
   "outputs": [],
   "source": []
  },
  {
   "cell_type": "code",
   "execution_count": null,
   "metadata": {},
   "outputs": [],
   "source": []
  },
  {
   "cell_type": "code",
   "execution_count": null,
   "metadata": {},
   "outputs": [],
   "source": []
  },
  {
   "cell_type": "code",
   "execution_count": null,
   "metadata": {},
   "outputs": [],
   "source": []
  },
  {
   "cell_type": "code",
   "execution_count": null,
   "metadata": {},
   "outputs": [],
   "source": []
  },
  {
   "cell_type": "code",
   "execution_count": null,
   "metadata": {},
   "outputs": [],
   "source": []
  },
  {
   "cell_type": "code",
   "execution_count": null,
   "metadata": {},
   "outputs": [],
   "source": []
  },
  {
   "cell_type": "code",
   "execution_count": null,
   "metadata": {},
   "outputs": [],
   "source": []
  },
  {
   "cell_type": "code",
   "execution_count": null,
   "metadata": {},
   "outputs": [],
   "source": []
  },
  {
   "cell_type": "code",
   "execution_count": null,
   "metadata": {},
   "outputs": [],
   "source": []
  },
  {
   "cell_type": "code",
   "execution_count": null,
   "metadata": {},
   "outputs": [],
   "source": []
  },
  {
   "cell_type": "code",
   "execution_count": null,
   "metadata": {},
   "outputs": [],
   "source": []
  },
  {
   "cell_type": "code",
   "execution_count": null,
   "metadata": {},
   "outputs": [],
   "source": []
  },
  {
   "cell_type": "code",
   "execution_count": null,
   "metadata": {},
   "outputs": [],
   "source": []
  },
  {
   "cell_type": "code",
   "execution_count": null,
   "metadata": {},
   "outputs": [],
   "source": []
  },
  {
   "cell_type": "code",
   "execution_count": null,
   "metadata": {},
   "outputs": [],
   "source": []
  },
  {
   "cell_type": "code",
   "execution_count": null,
   "metadata": {},
   "outputs": [],
   "source": []
  },
  {
   "cell_type": "code",
   "execution_count": null,
   "metadata": {},
   "outputs": [],
   "source": []
  },
  {
   "cell_type": "code",
   "execution_count": null,
   "metadata": {},
   "outputs": [],
   "source": []
  },
  {
   "cell_type": "code",
   "execution_count": null,
   "metadata": {},
   "outputs": [],
   "source": []
  },
  {
   "cell_type": "code",
   "execution_count": null,
   "metadata": {},
   "outputs": [],
   "source": []
  },
  {
   "cell_type": "code",
   "execution_count": null,
   "metadata": {},
   "outputs": [],
   "source": []
  },
  {
   "cell_type": "code",
   "execution_count": null,
   "metadata": {},
   "outputs": [],
   "source": []
  },
  {
   "cell_type": "code",
   "execution_count": null,
   "metadata": {},
   "outputs": [],
   "source": []
  },
  {
   "cell_type": "code",
   "execution_count": null,
   "metadata": {},
   "outputs": [],
   "source": []
  },
  {
   "cell_type": "code",
   "execution_count": null,
   "metadata": {},
   "outputs": [],
   "source": []
  },
  {
   "cell_type": "code",
   "execution_count": null,
   "metadata": {},
   "outputs": [],
   "source": []
  },
  {
   "cell_type": "code",
   "execution_count": null,
   "metadata": {},
   "outputs": [],
   "source": []
  },
  {
   "cell_type": "code",
   "execution_count": null,
   "metadata": {},
   "outputs": [],
   "source": []
  },
  {
   "cell_type": "code",
   "execution_count": null,
   "metadata": {},
   "outputs": [],
   "source": []
  },
  {
   "cell_type": "code",
   "execution_count": null,
   "metadata": {},
   "outputs": [],
   "source": []
  },
  {
   "cell_type": "code",
   "execution_count": null,
   "metadata": {},
   "outputs": [],
   "source": []
  },
  {
   "cell_type": "code",
   "execution_count": null,
   "metadata": {},
   "outputs": [],
   "source": []
  },
  {
   "cell_type": "code",
   "execution_count": null,
   "metadata": {},
   "outputs": [],
   "source": []
  },
  {
   "cell_type": "code",
   "execution_count": null,
   "metadata": {},
   "outputs": [],
   "source": []
  },
  {
   "cell_type": "code",
   "execution_count": null,
   "metadata": {},
   "outputs": [],
   "source": []
  },
  {
   "cell_type": "code",
   "execution_count": null,
   "metadata": {},
   "outputs": [],
   "source": []
  },
  {
   "cell_type": "code",
   "execution_count": null,
   "metadata": {},
   "outputs": [],
   "source": []
  },
  {
   "cell_type": "code",
   "execution_count": null,
   "metadata": {},
   "outputs": [],
   "source": []
  },
  {
   "cell_type": "code",
   "execution_count": null,
   "metadata": {},
   "outputs": [],
   "source": []
  },
  {
   "cell_type": "code",
   "execution_count": null,
   "metadata": {},
   "outputs": [],
   "source": []
  },
  {
   "cell_type": "code",
   "execution_count": null,
   "metadata": {},
   "outputs": [],
   "source": []
  },
  {
   "cell_type": "code",
   "execution_count": null,
   "metadata": {},
   "outputs": [],
   "source": []
  }
 ],
 "metadata": {
  "kernelspec": {
   "display_name": "Python 3",
   "language": "python",
   "name": "python3"
  },
  "language_info": {
   "codemirror_mode": {
    "name": "ipython",
    "version": 3
   },
   "file_extension": ".py",
   "mimetype": "text/x-python",
   "name": "python",
   "nbconvert_exporter": "python",
   "pygments_lexer": "ipython3",
   "version": "3.6.5"
  }
 },
 "nbformat": 4,
 "nbformat_minor": 2
}
